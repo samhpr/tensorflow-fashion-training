{
 "cells": [
  {
   "attachments": {},
   "cell_type": "markdown",
   "metadata": {},
   "source": [
    "### Basic classification of images of coding\n",
    "\n",
    "We are training a neural network to classify images of clothing, such as sneakers and shirts using `tf.keras`, a high-level API to build and train new models in TensorFlow."
   ]
  },
  {
   "cell_type": "code",
   "execution_count": 4,
   "metadata": {},
   "outputs": [
    {
     "name": "stdout",
     "output_type": "stream",
     "text": [
      "2.10.0\n"
     ]
    }
   ],
   "source": [
    "# Helper libraries and TensorFlow (and tf.keras)\n",
    "import tensorflow as tf\n",
    "\n",
    "import numpy as np\n",
    "import matplotlib as plt\n",
    "\n",
    "print(tf.__version__)"
   ]
  },
  {
   "attachments": {},
   "cell_type": "markdown",
   "metadata": {},
   "source": [
    "### Importing Fashion MNIST dataset"
   ]
  },
  {
   "attachments": {},
   "cell_type": "markdown",
   "metadata": {},
   "source": [
    "The dataset contains:\n",
    "* 70,000 grayscale images\n",
    "* 10 categories\n",
    "* Low resolution at 28 by 28 pixels\n",
    "\n",
    "Used as a replacement of classic MNIST dataset, or more often the \"Hello World\" of machine learning programs for computer vision\n",
    "* MNIST dataset contains images of handwritten digits (0, 1, 2, etc.) in the same format as the fashion\n",
    "\n",
    "We can access the 60,000 images to train the network and 10,000 images to evaluate the accuracy of the network directly from TensorFlow:"
   ]
  },
  {
   "cell_type": "code",
   "execution_count": null,
   "metadata": {},
   "outputs": [],
   "source": []
  }
 ],
 "metadata": {
  "kernelspec": {
   "display_name": "tf",
   "language": "python",
   "name": "python3"
  },
  "language_info": {
   "codemirror_mode": {
    "name": "ipython",
    "version": 3
   },
   "file_extension": ".py",
   "mimetype": "text/x-python",
   "name": "python",
   "nbconvert_exporter": "python",
   "pygments_lexer": "ipython3",
   "version": "3.10.11"
  },
  "orig_nbformat": 4
 },
 "nbformat": 4,
 "nbformat_minor": 2
}
